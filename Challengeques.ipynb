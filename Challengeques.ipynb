{
  "nbformat": 4,
  "nbformat_minor": 0,
  "metadata": {
    "colab": {
      "provenance": []
    },
    "kernelspec": {
      "name": "python3",
      "display_name": "Python 3"
    },
    "language_info": {
      "name": "python"
    }
  },
  "cells": [
    {
      "cell_type": "markdown",
      "source": [
        "Q1.Write a python program to sort the list of heterogeneous data.\n",
        "L=[\"Ram\",1,\"Shyam\",2,\"Aman\",3]."
      ],
      "metadata": {
        "id": "qFbF4v5UTDdS"
      }
    },
    {
      "cell_type": "code",
      "source": [
        "L=[\"Ram\",1,\"Shyam\",2,\"Aman\",3]\n",
        "numbers = [x for x in L if isinstance(x, int)]\n",
        "strings = [x for x in L if not isinstance(x, int)]\n",
        "sorted_L = sorted(numbers) + strings  #sorted using sorted function and then concatinating.\n",
        "print(sorted_L)"
      ],
      "metadata": {
        "colab": {
          "base_uri": "https://localhost:8080/"
        },
        "id": "0TD2JsvCUwQh",
        "outputId": "f5d92efc-b5ab-42b4-b028-5d3b0326456d"
      },
      "execution_count": 7,
      "outputs": [
        {
          "output_type": "stream",
          "name": "stdout",
          "text": [
            "[1, 2, 3, 'Ram', 'Shyam', 'Aman']\n"
          ]
        }
      ]
    }
  ]
}